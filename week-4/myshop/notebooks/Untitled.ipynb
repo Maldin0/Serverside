{
 "cells": [
  {
   "cell_type": "code",
   "execution_count": 1,
   "id": "74513506",
   "metadata": {},
   "outputs": [],
   "source": [
    "import os\n",
    "os.environ[\"DJANGO_ALLOW_ASYNC_UNSAFE\"] = \"true\""
   ]
  },
  {
   "cell_type": "code",
   "execution_count": 2,
   "id": "021b6ce7",
   "metadata": {},
   "outputs": [],
   "source": [
    "from blogs.models import Blog\n",
    "b = Blog(name=\"Beatles Blog\", tagline=\"All the latest Beatles news.\")\n",
    "b.save()"
   ]
  },
  {
   "cell_type": "code",
   "execution_count": null,
   "id": "59ccd760",
   "metadata": {},
   "outputs": [],
   "source": []
  }
 ],
 "metadata": {
  "kernelspec": {
   "display_name": "Django Shell-Plus",
   "language": "python",
   "name": "django_extensions"
  },
  "language_info": {
   "codemirror_mode": {
    "name": "ipython",
    "version": 3
   },
   "file_extension": ".py",
   "mimetype": "text/x-python",
   "name": "python",
   "nbconvert_exporter": "python",
   "pygments_lexer": "ipython3",
   "version": "3.12.3"
  }
 },
 "nbformat": 4,
 "nbformat_minor": 5
}
