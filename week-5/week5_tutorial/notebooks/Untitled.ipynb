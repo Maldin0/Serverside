{
 "cells": [
  {
   "cell_type": "code",
   "execution_count": 1,
   "id": "1d5348ba",
   "metadata": {},
   "outputs": [],
   "source": [
    "import os\n",
    "os.environ['DJANGO_ALLOW_ASYNC_UNSAFE'] = \"true\""
   ]
  },
  {
   "cell_type": "code",
   "execution_count": 3,
   "id": "87c6df14",
   "metadata": {},
   "outputs": [],
   "source": [
    ">>> from companies.models import Company\n",
    ">>> from django.db.models import Count, F, Value\n",
    ">>> from django.db.models.functions import Length, Upper\n",
    ">>> from django.db.models.lookups import GreaterThan"
   ]
  },
  {
   "cell_type": "code",
   "execution_count": 4,
   "id": "fd6cd349",
   "metadata": {},
   "outputs": [
    {
     "data": {
      "text/plain": [
       "<QuerySet [<Company: Company BBB>, <Company: Company CCC>]>"
      ]
     },
     "execution_count": 4,
     "metadata": {},
     "output_type": "execute_result"
    }
   ],
   "source": [
    ">>> Company.objects.filter(num_employees__gt=F(\"num_chairs\"))"
   ]
  },
  {
   "cell_type": "code",
   "execution_count": 5,
   "id": "15961cf6",
   "metadata": {},
   "outputs": [
    {
     "data": {
      "text/plain": [
       "<QuerySet [<Company: Company CCC>]>"
      ]
     },
     "execution_count": 5,
     "metadata": {},
     "output_type": "execute_result"
    }
   ],
   "source": [
    "Company.objects.filter(num_employees__gt=F(\"num_chairs\") * 2)"
   ]
  },
  {
   "cell_type": "code",
   "execution_count": 6,
   "id": "9edb242e",
   "metadata": {},
   "outputs": [
    {
     "data": {
      "text/plain": [
       "<QuerySet [<Company: Company CCC>]>"
      ]
     },
     "execution_count": 6,
     "metadata": {},
     "output_type": "execute_result"
    }
   ],
   "source": [
    "Company.objects.filter(num_employees__gt=F(\"num_chairs\") + F(\"num_tables\"))"
   ]
  },
  {
   "cell_type": "code",
   "execution_count": 7,
   "id": "aff7a4f2",
   "metadata": {},
   "outputs": [],
   "source": [
    ">>> company = (\n",
    "...     Company.objects.filter(num_employees__gt=F(\"num_chairs\"))\n",
    "...     .annotate(chairs_needed=F(\"num_employees\") - F(\"num_chairs\"))\n",
    "...     .first()\n",
    "... )"
   ]
  },
  {
   "cell_type": "code",
   "execution_count": 8,
   "id": "c668cc1f",
   "metadata": {},
   "outputs": [
    {
     "data": {
      "text/plain": [
       "50"
      ]
     },
     "execution_count": 8,
     "metadata": {},
     "output_type": "execute_result"
    }
   ],
   "source": [
    "company.num_employees"
   ]
  },
  {
   "cell_type": "code",
   "execution_count": 9,
   "id": "46f525d2",
   "metadata": {},
   "outputs": [
    {
     "data": {
      "text/plain": [
       "30"
      ]
     },
     "execution_count": 9,
     "metadata": {},
     "output_type": "execute_result"
    }
   ],
   "source": [
    "company.num_chairs"
   ]
  },
  {
   "cell_type": "code",
   "execution_count": 10,
   "id": "1762ce6b",
   "metadata": {},
   "outputs": [
    {
     "data": {
      "text/plain": [
       "20"
      ]
     },
     "execution_count": 10,
     "metadata": {},
     "output_type": "execute_result"
    }
   ],
   "source": [
    "company.chairs_needed"
   ]
  },
  {
   "cell_type": "code",
   "execution_count": 13,
   "id": "879b1b45",
   "metadata": {},
   "outputs": [],
   "source": [
    "company = Company.objects.create(name=\"Google\", \n",
    "                                 ticker=Upper(Value(\"goog\")), \n",
    "                                 num_employees = 10, num_tables=20, \n",
    "                                 num_chairs=20)"
   ]
  },
  {
   "cell_type": "code",
   "execution_count": 14,
   "id": "0d85c85e",
   "metadata": {},
   "outputs": [],
   "source": [
    "company.refresh_from_db()"
   ]
  },
  {
   "cell_type": "code",
   "execution_count": 15,
   "id": "b72a4fe6",
   "metadata": {},
   "outputs": [
    {
     "data": {
      "text/plain": [
       "'GOOG'"
      ]
     },
     "execution_count": 15,
     "metadata": {},
     "output_type": "execute_result"
    }
   ],
   "source": [
    "company.ticker"
   ]
  },
  {
   "cell_type": "code",
   "execution_count": 16,
   "id": "d4a7e0e8",
   "metadata": {},
   "outputs": [],
   "source": [
    "companies = Company.objects.all().annotate(name_upper=Upper('name'))"
   ]
  },
  {
   "cell_type": "code",
   "execution_count": 17,
   "id": "0ca469b3",
   "metadata": {},
   "outputs": [
    {
     "name": "stdout",
     "output_type": "stream",
     "text": [
      "Name: Company AAA, Name Upper: COMPANY AAA\n",
      "Name: Company BBB, Name Upper: COMPANY BBB\n",
      "Name: Company CCC, Name Upper: COMPANY CCC\n",
      "Name: Google, Name Upper: GOOGLE\n"
     ]
    }
   ],
   "source": [
    "for com in companies:\n",
    "    print(f'Name: {com.name}, Name Upper: {com.name_upper}')"
   ]
  },
  {
   "cell_type": "code",
   "execution_count": null,
   "id": "4c1afc1b",
   "metadata": {},
   "outputs": [],
   "source": []
  }
 ],
 "metadata": {
  "kernelspec": {
   "display_name": "Django Shell-Plus",
   "language": "python",
   "name": "django_extensions"
  },
  "language_info": {
   "codemirror_mode": {
    "name": "ipython",
    "version": 3
   },
   "file_extension": ".py",
   "mimetype": "text/x-python",
   "name": "python",
   "nbconvert_exporter": "python",
   "pygments_lexer": "ipython3",
   "version": "3.12.3"
  }
 },
 "nbformat": 4,
 "nbformat_minor": 5
}
