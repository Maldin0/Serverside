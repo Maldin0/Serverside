{
 "cells": [
  {
   "cell_type": "code",
   "execution_count": 1,
   "id": "77d04c32",
   "metadata": {},
   "outputs": [],
   "source": [
    "import os\n",
    "os.environ[\"DJANGO_ALLOW_ASYNC_UNSAFE\"] = \"true\"\n",
    "from service.models import *\n",
    "from datetime import date, time, datetime\n",
    "from django.utils import timezone\n",
    "from django.db.models import *\n",
    "from django.db.models.functions import *"
   ]
  },
  {
   "cell_type": "code",
   "execution_count": 6,
   "id": "b0e958fe",
   "metadata": {},
   "outputs": [
    {
     "name": "stdout",
     "output_type": "stream",
     "text": [
      "Haircut\n",
      "Manicure\n",
      "Massage\n",
      "Haircut\n",
      "Manicure\n",
      "Massage\n",
      "Haircut\n",
      "Manicure\n",
      "Massage\n",
      "Haircut\n",
      "Manicure\n",
      "Massage\n"
     ]
    }
   ],
   "source": [
    "for service in Service.objects.all():\n",
    "    print(str(service).split()[0])"
   ]
  },
  {
   "cell_type": "code",
   "execution_count": null,
   "id": "e22e6391",
   "metadata": {},
   "outputs": [],
   "source": []
  }
 ],
 "metadata": {
  "kernelspec": {
   "display_name": "Django Shell-Plus",
   "language": "python",
   "name": "django_extensions"
  },
  "language_info": {
   "codemirror_mode": {
    "name": "ipython",
    "version": 3
   },
   "file_extension": ".py",
   "mimetype": "text/x-python",
   "name": "python",
   "nbconvert_exporter": "python",
   "pygments_lexer": "ipython3",
   "version": "3.12.3"
  }
 },
 "nbformat": 4,
 "nbformat_minor": 5
}
